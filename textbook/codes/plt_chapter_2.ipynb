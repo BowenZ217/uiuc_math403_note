{
 "cells": [
  {
   "cell_type": "code",
   "execution_count": null,
   "id": "07007d62",
   "metadata": {},
   "outputs": [],
   "source": [
    "import numpy as np\n",
    "import matplotlib.pyplot as plt\n"
   ]
  },
  {
   "cell_type": "code",
   "execution_count": null,
   "id": "8c849306",
   "metadata": {},
   "outputs": [],
   "source": [
    "def figure_2_6():\n",
    "    title = 'Figure 2.6'\n",
    "    points = {\n",
    "        \"A\": (-1, -2),\n",
    "        \"B\": (1, -2),\n",
    "        \"C\": (1, 2),\n",
    "        \"D\": (-1, 2)\n",
    "    }\n",
    "\n",
    "    rectangle_x = [points[\"A\"][0], points[\"B\"][0], points[\"C\"][0], points[\"D\"][0], points[\"A\"][0]]\n",
    "    rectangle_y = [points[\"A\"][1], points[\"B\"][1], points[\"C\"][1], points[\"D\"][1], points[\"A\"][1]]\n",
    "\n",
    "    plt.figure(figsize=(6, 6))\n",
    "\n",
    "    plt.plot(rectangle_x, rectangle_y, 'black')\n",
    "    for label, (x, y) in points.items():\n",
    "        plt.text(x, y, f'{label}', fontsize=12, ha='center', va='center', bbox=dict(facecolor='white', edgecolor='none', pad=1.0))\n",
    "\n",
    "    plt.plot([-2, 2], [0, 0], linestyle='--', color='blue')   # h轴\n",
    "    plt.plot([0, 0], [-3, 3], linestyle='--', color='red')    # v轴\n",
    "    plt.text(2.1, 0, 'h', color='blue', fontsize=12, va='center')\n",
    "    plt.text(0, 3.1, 'v', color='red', fontsize=12, ha='center')\n",
    "\n",
    "    plt.axis('off')\n",
    "    plt.axis('equal')\n",
    "    plt.gca().set_aspect('equal', adjustable='box')\n",
    "    plt.suptitle(title, y=0.03)\n",
    "    plt.show()\n",
    "    return\n",
    "\n",
    "figure_2_6()\n"
   ]
  },
  {
   "cell_type": "code",
   "execution_count": null,
   "id": "167ba9fc",
   "metadata": {},
   "outputs": [],
   "source": [
    "def figure_2_10():\n",
    "    title = 'Figure 2.10'\n",
    "    n = 5\n",
    "    radius = 1\n",
    "    angles = np.linspace(0, 2 * np.pi, n, endpoint=False) + np.pi / 2\n",
    "    x = radius * np.cos(angles)\n",
    "    y = radius * np.sin(angles)\n",
    "\n",
    "    # 五边形顶点\n",
    "    pentagon_points = np.column_stack((x, y))\n",
    "    pentagon_points = np.append(pentagon_points, [pentagon_points[0]], axis=0)\n",
    "\n",
    "    # 五角星连接顺序\n",
    "    star_indices = [0, 2, 4, 1, 3]\n",
    "    star_points = np.column_stack((x[star_indices], y[star_indices]))\n",
    "    star_points = np.append(star_points, [star_points[0]], axis=0)\n",
    "\n",
    "    # 创建图形\n",
    "    fig, ax = plt.subplots(figsize=(6, 6))\n",
    "    fig.patch.set_facecolor('white')\n",
    "    ax.set_facecolor('white')\n",
    "\n",
    "    # 绘制黑色填充五边形（底层）\n",
    "    ax.fill(pentagon_points[:, 0], pentagon_points[:, 1], color='black', zorder=1)\n",
    "\n",
    "    # 绘制白色填充五角星（上层）\n",
    "    ax.fill(star_points[:, 0], star_points[:, 1], color='white', zorder=2)\n",
    "\n",
    "    # 设置样式\n",
    "    plt.axis('off')\n",
    "    plt.axis('equal')\n",
    "    plt.gca().set_aspect('equal', adjustable='box')\n",
    "    plt.suptitle(title, y=0.03)\n",
    "    plt.show()\n",
    "    return\n",
    "\n",
    "figure_2_10()\n",
    "\n"
   ]
  }
 ],
 "metadata": {
  "kernelspec": {
   "display_name": "py_3_12_3",
   "language": "python",
   "name": "python3"
  },
  "language_info": {
   "codemirror_mode": {
    "name": "ipython",
    "version": 3
   },
   "file_extension": ".py",
   "mimetype": "text/x-python",
   "name": "python",
   "nbconvert_exporter": "python",
   "pygments_lexer": "ipython3",
   "version": "3.12.3"
  }
 },
 "nbformat": 4,
 "nbformat_minor": 5
}
